{
  "nbformat": 4,
  "nbformat_minor": 0,
  "metadata": {
    "colab": {
      "name": "Keras.ipynb",
      "provenance": [],
      "authorship_tag": "ABX9TyPMYW8D+43PrwkyXpg2tyAW",
      "include_colab_link": true
    },
    "kernelspec": {
      "name": "python3",
      "display_name": "Python 3"
    }
  },
  "cells": [
    {
      "cell_type": "markdown",
      "metadata": {
        "id": "view-in-github",
        "colab_type": "text"
      },
      "source": [
        "<a href=\"https://colab.research.google.com/github/sraghav42/machine_learning/blob/master/Keras.ipynb\" target=\"_parent\"><img src=\"https://colab.research.google.com/assets/colab-badge.svg\" alt=\"Open In Colab\"/></a>"
      ]
    },
    {
      "cell_type": "code",
      "metadata": {
        "id": "idIQKvZo9bll",
        "colab_type": "code",
        "colab": {
          "base_uri": "https://localhost:8080/",
          "height": 297
        },
        "outputId": "e8e34ee7-06ba-4d54-a8ea-e3ad9d4e8fd7"
      },
      "source": [
        "%tensorflow_version 2.x\n",
        "\n",
        "from tensorflow.keras.models import Sequential\n",
        "from tensorflow.keras.layers import Dense, Activation\n",
        "from tensorflow.keras.optimizers import Adam,SGD,Adadelta,RMSprop\n",
        "from tensorflow.keras.models import model_from_json\n",
        " \n",
        "from matplotlib import pyplot as plt\n",
        " \n",
        "import numpy as np\n",
        "\n",
        "def function(x):\n",
        "    return 10*x**2 - 5*x - 0.5\n",
        "\n",
        "x_train = np.random.rand(10000)\n",
        "print(x_train)\n",
        "y_train = function(x_train)\n",
        " \n",
        "x_test = np.linspace(0, 1, 100)\n",
        "y_test = function(x_test)\n",
        "\n",
        "plt.scatter(x_train, y_train, label='Train', color='blue')\n",
        "plt.plot(x_test, y_test, label='Test', color='red')\n",
        "plt.ylabel('y')\n",
        "plt.xlabel('x')\n",
        "plt.legend(loc='best')\n",
        "plt.show()\n"
      ],
      "execution_count": 18,
      "outputs": [
        {
          "output_type": "stream",
          "text": [
            "[0.52535261 0.16398888 0.82121957 ... 0.7144194  0.29128933 0.36406245]\n"
          ],
          "name": "stdout"
        },
        {
          "output_type": "display_data",
          "data": {
            "image/png": "[encoded data removed]",
            "text/plain": [
              "<Figure size 432x288 with 1 Axes>"
            ]
          },
          "metadata": {
            "tags": [],
            "needs_background": "light"
          }
        }
      ]
    },
    {
      "cell_type": "code",
      "metadata": {
        "id": "rFMvRu_QCVJZ",
        "colab_type": "code",
        "colab": {
          "base_uri": "https://localhost:8080/",
          "height": 989
        },
        "outputId": "99aa531a-96e0-401e-aea1-45820f0b2f9f"
      },
      "source": [
        "model = Sequential()\n",
        "model.add(Dense(units=200, input_dim=1))\n",
        "model.add(Activation('relu'))\n",
        "model.add(Dense(units=20))\n",
        "model.add(Activation('relu'))\n",
        "model.add(Dense(units=1))\n",
        "\n",
        "\n",
        "model.compile(loss='mean_squared_error', optimizer=Adam())\n",
        "\n",
        "history = model.fit(x_train, y_train, batch_size=50, epochs=20, verbose=1, validation_data=(x_test, y_test))\n",
        "\n",
        "plt.plot(history.history['loss'])\n",
        "plt.plot(history.history['val_loss'])\n",
        "plt.title('Model loss')\n",
        "plt.ylabel('Loss')\n",
        "plt.xlabel('Epoch')\n",
        "plt.legend(['Train', 'Test'], loc='upper left')\n",
        "plt.show()"
      ],
      "execution_count": 19,
      "outputs": [
        {
          "output_type": "stream",
          "text": [
            "Epoch 1/20\n",
            "200/200 [==============================] - 0s 2ms/step - loss: 0.9818 - val_loss: 0.0463\n",
            "Epoch 2/20\n",
            "200/200 [==============================] - 0s 1ms/step - loss: 0.0181 - val_loss: 0.0094\n",
            "Epoch 3/20\n",
            "200/200 [==============================] - 0s 1ms/step - loss: 0.0067 - val_loss: 0.0059\n",
            "Epoch 4/20\n",
            "200/200 [==============================] - 0s 1ms/step - loss: 0.0046 - val_loss: 0.0044\n",
            "Epoch 5/20\n",
            "200/200 [==============================] - 0s 1ms/step - loss: 0.0035 - val_loss: 0.0033\n",
            "Epoch 6/20\n",
            "200/200 [==============================] - 0s 1ms/step - loss: 0.0026 - val_loss: 0.0025\n",
            "Epoch 7/20\n",
            "200/200 [==============================] - 0s 1ms/step - loss: 0.0019 - val_loss: 0.0017\n",
            "Epoch 8/20\n",
            "200/200 [==============================] - 0s 1ms/step - loss: 0.0013 - val_loss: 0.0012\n",
            "Epoch 9/20\n",
            "200/200 [==============================] - 0s 1ms/step - loss: 8.5897e-04 - val_loss: 8.0542e-04\n",
            "Epoch 10/20\n",
            "200/200 [==============================] - 0s 1ms/step - loss: 5.7193e-04 - val_loss: 5.3304e-04\n",
            "Epoch 11/20\n",
            "200/200 [==============================] - 0s 1ms/step - loss: 3.8409e-04 - val_loss: 3.6727e-04\n",
            "Epoch 12/20\n",
            "200/200 [==============================] - 0s 1ms/step - loss: 2.5837e-04 - val_loss: 2.5036e-04\n",
            "Epoch 13/20\n",
            "200/200 [==============================] - 0s 1ms/step - loss: 1.8053e-04 - val_loss: 2.0053e-04\n",
            "Epoch 14/20\n",
            "200/200 [==============================] - 0s 1ms/step - loss: 1.2969e-04 - val_loss: 1.3054e-04\n",
            "Epoch 15/20\n",
            "200/200 [==============================] - 0s 1ms/step - loss: 9.2689e-05 - val_loss: 9.5118e-05\n",
            "Epoch 16/20\n",
            "200/200 [==============================] - 0s 1ms/step - loss: 6.9719e-05 - val_loss: 8.1723e-05\n",
            "Epoch 17/20\n",
            "200/200 [==============================] - 0s 1ms/step - loss: 5.4002e-05 - val_loss: 5.4917e-05\n",
            "Epoch 18/20\n",
            "200/200 [==============================] - 0s 1ms/step - loss: 4.1340e-05 - val_loss: 4.8040e-05\n",
            "Epoch 19/20\n",
            "200/200 [==============================] - 0s 1ms/step - loss: 3.0567e-05 - val_loss: 3.5640e-05\n",
            "Epoch 20/20\n",
            "200/200 [==============================] - 0s 1ms/step - loss: 2.9535e-05 - val_loss: 3.1501e-05\n"
          ],
          "name": "stdout"
        },
        {
          "output_type": "display_data",
          "data": {
            "image/png": "[encoded data removed]",
            "text/plain": [
              "<Figure size 432x288 with 1 Axes>"
            ]
          },
          "metadata": {
            "tags": [],
            "needs_background": "light"
          }
        }
      ]
    },
    {
      "cell_type": "code",
      "metadata": {
        "id": "mRFEFc5TCq5l",
        "colab_type": "code",
        "colab": {
          "base_uri": "https://localhost:8080/",
          "height": 279
        },
        "outputId": "2394bacb-c118-4810-ac3b-2f31c4b835a3"
      },
      "source": [
        "y_predictions = model.predict(x_test)\n",
        "\n",
        "plt.scatter(x_test, y_predictions, label='Predictions', color='blue')\n",
        "plt.plot(x_test, y_test, label='Test', color='red')\n",
        "plt.ylabel('y')\n",
        "plt.xlabel('x')\n",
        "plt.legend(loc='best')\n",
        "plt.show()"
      ],
      "execution_count": 20,
      "outputs": [
        {
          "output_type": "display_data",
          "data": {
            "image/png": "[encoded data removed]",
            "text/plain": [
              "<Figure size 432x288 with 1 Axes>"
            ]
          },
          "metadata": {
            "tags": [],
            "needs_background": "light"
          }
        }
      ]
    },
    {
      "cell_type": "markdown",
      "metadata": {
        "id": "7k63NOGSaAiZ",
        "colab_type": "text"
      },
      "source": [
        "Save a model"
      ]
    },
    {
      "cell_type": "code",
      "metadata": {
        "id": "9Szk1gzgaAE2",
        "colab_type": "code",
        "colab": {}
      },
      "source": [
        "model_structure = model.to_json()\n",
        "with open(\"model.json\", \"w\") as json_file:\n",
        "    json_file.write(model_structure)\n",
        "model.save_weights(\"weights.h5\")"
      ],
      "execution_count": 0,
      "outputs": []
    },
    {
      "cell_type": "markdown",
      "metadata": {
        "id": "MIV-MemYaExq",
        "colab_type": "text"
      },
      "source": [
        "Restore a model"
      ]
    },
    {
      "cell_type": "code",
      "metadata": {
        "id": "t4hMbAlZaEic",
        "colab_type": "code",
        "colab": {}
      },
      "source": [
        "with open('model.json', 'r') as json_file:\n",
        "    loaded_model_json = json_file.read()\n",
        "restored_model = model_from_json(loaded_model_json)\n",
        "restored_model.load_weights(\"weights.h5\")"
      ],
      "execution_count": 0,
      "outputs": []
    },
    {
      "cell_type": "markdown",
      "metadata": {
        "id": "0qWrGbhuaK0k",
        "colab_type": "text"
      },
      "source": [
        "Predict using the restored model"
      ]
    },
    {
      "cell_type": "code",
      "metadata": {
        "id": "7sB4qxO8aKmw",
        "colab_type": "code",
        "colab": {}
      },
      "source": [
        "\n",
        "y_predictions = restored_model.predict(x_test, batch_size=1)\n",
        "\n",
        "plt.scatter(x_test, y_predictions, label='Predictions', color='blue')\n",
        "plt.plot(x_test, y_test, label='Test', color='red')\n",
        "plt.ylabel('y')\n",
        "plt.xlabel('x')\n",
        "plt.legend(loc='best')\n",
        "plt.show()"
      ],
      "execution_count": 0,
      "outputs": []
    }
  ]
}