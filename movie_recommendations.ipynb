{
  "nbformat": 4,
  "nbformat_minor": 0,
  "metadata": {
    "colab": {
      "name": "movie_recommendations.ipynb",
      "provenance": [],
      "authorship_tag": "ABX9TyO4om0hlw/ZR+90BR1cymvg",
      "include_colab_link": true
    },
    "kernelspec": {
      "name": "python3",
      "display_name": "Python 3"
    },
    "accelerator": "GPU"
  },
  "cells": [
    {
      "cell_type": "markdown",
      "metadata": {
        "id": "view-in-github",
        "colab_type": "text"
      },
      "source": [
        "<a href=\"https://colab.research.google.com/github/sraghav42/machine_learning/blob/master/movie_recommendations.ipynb\" target=\"_parent\"><img src=\"https://colab.research.google.com/assets/colab-badge.svg\" alt=\"Open In Colab\"/></a>"
      ]
    },
    {
      "cell_type": "code",
      "metadata": {
        "id": "G3YdUshjpKqq",
        "colab_type": "code",
        "colab": {}
      },
      "source": [
        "%tensorflow_version 2.x"
      ],
      "execution_count": 0,
      "outputs": []
    },
    {
      "cell_type": "code",
      "metadata": {
        "id": "MMdm_4vkpcZG",
        "colab_type": "code",
        "colab": {}
      },
      "source": [
        "import pandas as pd\n",
        "import numpy as np\n",
        "import matplotlib.pyplot as plt\n",
        "from sklearn.model_selection import train_test_split\n",
        "from sklearn.preprocessing import StandardScaler\n",
        "from tensorflow.keras.layers import Input, Embedding, Flatten, Dot, Dense, Add, Dropout\n",
        "from tensorflow.keras.models import Model\n",
        "from tensorflow.keras.optimizers import Adam\n",
        "from sklearn.preprocessing import LabelEncoder"
      ],
      "execution_count": 0,
      "outputs": []
    },
    {
      "cell_type": "code",
      "metadata": {
        "id": "2MuBi0gYprNW",
        "colab_type": "code",
        "outputId": "5d174f35-92db-472c-b8cb-a8aac7e7f6a8",
        "colab": {
          "base_uri": "https://localhost:8080/",
          "height": 208
        }
      },
      "source": [
        "!wget http://files.grouplens.org/datasets/movielens/ml-latest-small.zip"
      ],
      "execution_count": 3,
      "outputs": [
        {
          "output_type": "stream",
          "text": [
            "--2020-06-11 17:10:29--  http://files.grouplens.org/datasets/movielens/ml-latest-small.zip\n",
            "Resolving files.grouplens.org (files.grouplens.org)... 128.101.65.152\n",
            "Connecting to files.grouplens.org (files.grouplens.org)|128.101.65.152|:80... connected.\n",
            "HTTP request sent, awaiting response... 200 OK\n",
            "Length: 978202 (955K) [application/zip]\n",
            "Saving to: ‘ml-latest-small.zip’\n",
            "\n",
            "ml-latest-small.zip 100%[===================>] 955.28K  1.49MB/s    in 0.6s    \n",
            "\n",
            "2020-06-11 17:10:30 (1.49 MB/s) - ‘ml-latest-small.zip’ saved [978202/978202]\n",
            "\n"
          ],
          "name": "stdout"
        }
      ]
    },
    {
      "cell_type": "code",
      "metadata": {
        "id": "4MVFQUcipv9V",
        "colab_type": "code",
        "outputId": "a9a3b065-1033-48aa-9872-f68674a93373",
        "colab": {
          "base_uri": "https://localhost:8080/",
          "height": 139
        }
      },
      "source": [
        "!unzip ml-latest-small.zip"
      ],
      "execution_count": 4,
      "outputs": [
        {
          "output_type": "stream",
          "text": [
            "Archive:  ml-latest-small.zip\n",
            "   creating: ml-latest-small/\n",
            "  inflating: ml-latest-small/links.csv  \n",
            "  inflating: ml-latest-small/tags.csv  \n",
            "  inflating: ml-latest-small/ratings.csv  \n",
            "  inflating: ml-latest-small/README.txt  \n",
            "  inflating: ml-latest-small/movies.csv  \n"
          ],
          "name": "stdout"
        }
      ]
    },
    {
      "cell_type": "code",
      "metadata": {
        "id": "bW-XH87-p1MX",
        "colab_type": "code",
        "outputId": "51f8c235-e99e-4250-ca2b-8c70048536fb",
        "colab": {
          "base_uri": "https://localhost:8080/",
          "height": 294
        }
      },
      "source": [
        "movies = pd.read_csv('ml-latest-small/movies.csv')\n",
        "movies.describe()"
      ],
      "execution_count": 5,
      "outputs": [
        {
          "output_type": "execute_result",
          "data": {
            "text/html": [
              "<div>\n",
              "<style scoped>\n",
              "    .dataframe tbody tr th:only-of-type {\n",
              "        vertical-align: middle;\n",
              "    }\n",
              "\n",
              "    .dataframe tbody tr th {\n",
              "        vertical-align: top;\n",
              "    }\n",
              "\n",
              "    .dataframe thead th {\n",
              "        text-align: right;\n",
              "    }\n",
              "</style>\n",
              "<table border=\"1\" class=\"dataframe\">\n",
              "  <thead>\n",
              "    <tr style=\"text-align: right;\">\n",
              "      <th></th>\n",
              "      <th>movieId</th>\n",
              "    </tr>\n",
              "  </thead>\n",
              "  <tbody>\n",
              "    <tr>\n",
              "      <th>count</th>\n",
              "      <td>9742.000000</td>\n",
              "    </tr>\n",
              "    <tr>\n",
              "      <th>mean</th>\n",
              "      <td>42200.353623</td>\n",
              "    </tr>\n",
              "    <tr>\n",
              "      <th>std</th>\n",
              "      <td>52160.494854</td>\n",
              "    </tr>\n",
              "    <tr>\n",
              "      <th>min</th>\n",
              "      <td>1.000000</td>\n",
              "    </tr>\n",
              "    <tr>\n",
              "      <th>25%</th>\n",
              "      <td>3248.250000</td>\n",
              "    </tr>\n",
              "    <tr>\n",
              "      <th>50%</th>\n",
              "      <td>7300.000000</td>\n",
              "    </tr>\n",
              "    <tr>\n",
              "      <th>75%</th>\n",
              "      <td>76232.000000</td>\n",
              "    </tr>\n",
              "    <tr>\n",
              "      <th>max</th>\n",
              "      <td>193609.000000</td>\n",
              "    </tr>\n",
              "  </tbody>\n",
              "</table>\n",
              "</div>"
            ],
            "text/plain": [
              "             movieId\n",
              "count    9742.000000\n",
              "mean    42200.353623\n",
              "std     52160.494854\n",
              "min         1.000000\n",
              "25%      3248.250000\n",
              "50%      7300.000000\n",
              "75%     76232.000000\n",
              "max    193609.000000"
            ]
          },
          "metadata": {
            "tags": []
          },
          "execution_count": 5
        }
      ]
    },
    {
      "cell_type": "code",
      "metadata": {
        "id": "IK6vl0PpqGC8",
        "colab_type": "code",
        "outputId": "6696eb76-3e29-4f9a-f6b7-fe4297221eb2",
        "colab": {
          "base_uri": "https://localhost:8080/",
          "height": 446
        }
      },
      "source": [
        "ratings = pd.read_csv('ml-latest-small/ratings.csv')\n",
        "ratings.groupby(['userId']).count()"
      ],
      "execution_count": 6,
      "outputs": [
        {
          "output_type": "execute_result",
          "data": {
            "text/html": [
              "<div>\n",
              "<style scoped>\n",
              "    .dataframe tbody tr th:only-of-type {\n",
              "        vertical-align: middle;\n",
              "    }\n",
              "\n",
              "    .dataframe tbody tr th {\n",
              "        vertical-align: top;\n",
              "    }\n",
              "\n",
              "    .dataframe thead th {\n",
              "        text-align: right;\n",
              "    }\n",
              "</style>\n",
              "<table border=\"1\" class=\"dataframe\">\n",
              "  <thead>\n",
              "    <tr style=\"text-align: right;\">\n",
              "      <th></th>\n",
              "      <th>movieId</th>\n",
              "      <th>rating</th>\n",
              "      <th>timestamp</th>\n",
              "    </tr>\n",
              "    <tr>\n",
              "      <th>userId</th>\n",
              "      <th></th>\n",
              "      <th></th>\n",
              "      <th></th>\n",
              "    </tr>\n",
              "  </thead>\n",
              "  <tbody>\n",
              "    <tr>\n",
              "      <th>1</th>\n",
              "      <td>232</td>\n",
              "      <td>232</td>\n",
              "      <td>232</td>\n",
              "    </tr>\n",
              "    <tr>\n",
              "      <th>2</th>\n",
              "      <td>29</td>\n",
              "      <td>29</td>\n",
              "      <td>29</td>\n",
              "    </tr>\n",
              "    <tr>\n",
              "      <th>3</th>\n",
              "      <td>39</td>\n",
              "      <td>39</td>\n",
              "      <td>39</td>\n",
              "    </tr>\n",
              "    <tr>\n",
              "      <th>4</th>\n",
              "      <td>216</td>\n",
              "      <td>216</td>\n",
              "      <td>216</td>\n",
              "    </tr>\n",
              "    <tr>\n",
              "      <th>5</th>\n",
              "      <td>44</td>\n",
              "      <td>44</td>\n",
              "      <td>44</td>\n",
              "    </tr>\n",
              "    <tr>\n",
              "      <th>...</th>\n",
              "      <td>...</td>\n",
              "      <td>...</td>\n",
              "      <td>...</td>\n",
              "    </tr>\n",
              "    <tr>\n",
              "      <th>606</th>\n",
              "      <td>1115</td>\n",
              "      <td>1115</td>\n",
              "      <td>1115</td>\n",
              "    </tr>\n",
              "    <tr>\n",
              "      <th>607</th>\n",
              "      <td>187</td>\n",
              "      <td>187</td>\n",
              "      <td>187</td>\n",
              "    </tr>\n",
              "    <tr>\n",
              "      <th>608</th>\n",
              "      <td>831</td>\n",
              "      <td>831</td>\n",
              "      <td>831</td>\n",
              "    </tr>\n",
              "    <tr>\n",
              "      <th>609</th>\n",
              "      <td>37</td>\n",
              "      <td>37</td>\n",
              "      <td>37</td>\n",
              "    </tr>\n",
              "    <tr>\n",
              "      <th>610</th>\n",
              "      <td>1302</td>\n",
              "      <td>1302</td>\n",
              "      <td>1302</td>\n",
              "    </tr>\n",
              "  </tbody>\n",
              "</table>\n",
              "<p>610 rows × 3 columns</p>\n",
              "</div>"
            ],
            "text/plain": [
              "        movieId  rating  timestamp\n",
              "userId                            \n",
              "1           232     232        232\n",
              "2            29      29         29\n",
              "3            39      39         39\n",
              "4           216     216        216\n",
              "5            44      44         44\n",
              "...         ...     ...        ...\n",
              "606        1115    1115       1115\n",
              "607         187     187        187\n",
              "608         831     831        831\n",
              "609          37      37         37\n",
              "610        1302    1302       1302\n",
              "\n",
              "[610 rows x 3 columns]"
            ]
          },
          "metadata": {
            "tags": []
          },
          "execution_count": 6
        }
      ]
    },
    {
      "cell_type": "code",
      "metadata": {
        "id": "KiJpSnblqL27",
        "colab_type": "code",
        "outputId": "2363ac15-d830-4de4-cbc5-840dc2773cc3",
        "colab": {
          "base_uri": "https://localhost:8080/",
          "height": 202
        }
      },
      "source": [
        "ratings = ratings.merge(movies, on='movieId').drop(['genres','timestamp'],axis=1)\n",
        "ratings.head()"
      ],
      "execution_count": 7,
      "outputs": [
        {
          "output_type": "execute_result",
          "data": {
            "text/html": [
              "<div>\n",
              "<style scoped>\n",
              "    .dataframe tbody tr th:only-of-type {\n",
              "        vertical-align: middle;\n",
              "    }\n",
              "\n",
              "    .dataframe tbody tr th {\n",
              "        vertical-align: top;\n",
              "    }\n",
              "\n",
              "    .dataframe thead th {\n",
              "        text-align: right;\n",
              "    }\n",
              "</style>\n",
              "<table border=\"1\" class=\"dataframe\">\n",
              "  <thead>\n",
              "    <tr style=\"text-align: right;\">\n",
              "      <th></th>\n",
              "      <th>userId</th>\n",
              "      <th>movieId</th>\n",
              "      <th>rating</th>\n",
              "      <th>title</th>\n",
              "    </tr>\n",
              "  </thead>\n",
              "  <tbody>\n",
              "    <tr>\n",
              "      <th>0</th>\n",
              "      <td>1</td>\n",
              "      <td>1</td>\n",
              "      <td>4.0</td>\n",
              "      <td>Toy Story (1995)</td>\n",
              "    </tr>\n",
              "    <tr>\n",
              "      <th>1</th>\n",
              "      <td>5</td>\n",
              "      <td>1</td>\n",
              "      <td>4.0</td>\n",
              "      <td>Toy Story (1995)</td>\n",
              "    </tr>\n",
              "    <tr>\n",
              "      <th>2</th>\n",
              "      <td>7</td>\n",
              "      <td>1</td>\n",
              "      <td>4.5</td>\n",
              "      <td>Toy Story (1995)</td>\n",
              "    </tr>\n",
              "    <tr>\n",
              "      <th>3</th>\n",
              "      <td>15</td>\n",
              "      <td>1</td>\n",
              "      <td>2.5</td>\n",
              "      <td>Toy Story (1995)</td>\n",
              "    </tr>\n",
              "    <tr>\n",
              "      <th>4</th>\n",
              "      <td>17</td>\n",
              "      <td>1</td>\n",
              "      <td>4.5</td>\n",
              "      <td>Toy Story (1995)</td>\n",
              "    </tr>\n",
              "  </tbody>\n",
              "</table>\n",
              "</div>"
            ],
            "text/plain": [
              "   userId  movieId  rating             title\n",
              "0       1        1     4.0  Toy Story (1995)\n",
              "1       5        1     4.0  Toy Story (1995)\n",
              "2       7        1     4.5  Toy Story (1995)\n",
              "3      15        1     2.5  Toy Story (1995)\n",
              "4      17        1     4.5  Toy Story (1995)"
            ]
          },
          "metadata": {
            "tags": []
          },
          "execution_count": 7
        }
      ]
    },
    {
      "cell_type": "code",
      "metadata": {
        "id": "ZfCBYS2AvJIu",
        "colab_type": "code",
        "outputId": "e89690d4-af9d-4c9d-9969-12fdc2268902",
        "colab": {
          "base_uri": "https://localhost:8080/",
          "height": 202
        }
      },
      "source": [
        "user_enc = LabelEncoder()\n",
        "ratings['userSeq'] = user_enc.fit_transform(ratings['userId'].values)\n",
        "\n",
        "item_enc = LabelEncoder()\n",
        "ratings['movieSeq'] = item_enc.fit_transform(ratings['movieId'].values)\n",
        "\n",
        "ratings.head()"
      ],
      "execution_count": 8,
      "outputs": [
        {
          "output_type": "execute_result",
          "data": {
            "text/html": [
              "<div>\n",
              "<style scoped>\n",
              "    .dataframe tbody tr th:only-of-type {\n",
              "        vertical-align: middle;\n",
              "    }\n",
              "\n",
              "    .dataframe tbody tr th {\n",
              "        vertical-align: top;\n",
              "    }\n",
              "\n",
              "    .dataframe thead th {\n",
              "        text-align: right;\n",
              "    }\n",
              "</style>\n",
              "<table border=\"1\" class=\"dataframe\">\n",
              "  <thead>\n",
              "    <tr style=\"text-align: right;\">\n",
              "      <th></th>\n",
              "      <th>userId</th>\n",
              "      <th>movieId</th>\n",
              "      <th>rating</th>\n",
              "      <th>title</th>\n",
              "      <th>userSeq</th>\n",
              "      <th>movieSeq</th>\n",
              "    </tr>\n",
              "  </thead>\n",
              "  <tbody>\n",
              "    <tr>\n",
              "      <th>0</th>\n",
              "      <td>1</td>\n",
              "      <td>1</td>\n",
              "      <td>4.0</td>\n",
              "      <td>Toy Story (1995)</td>\n",
              "      <td>0</td>\n",
              "      <td>0</td>\n",
              "    </tr>\n",
              "    <tr>\n",
              "      <th>1</th>\n",
              "      <td>5</td>\n",
              "      <td>1</td>\n",
              "      <td>4.0</td>\n",
              "      <td>Toy Story (1995)</td>\n",
              "      <td>4</td>\n",
              "      <td>0</td>\n",
              "    </tr>\n",
              "    <tr>\n",
              "      <th>2</th>\n",
              "      <td>7</td>\n",
              "      <td>1</td>\n",
              "      <td>4.5</td>\n",
              "      <td>Toy Story (1995)</td>\n",
              "      <td>6</td>\n",
              "      <td>0</td>\n",
              "    </tr>\n",
              "    <tr>\n",
              "      <th>3</th>\n",
              "      <td>15</td>\n",
              "      <td>1</td>\n",
              "      <td>2.5</td>\n",
              "      <td>Toy Story (1995)</td>\n",
              "      <td>14</td>\n",
              "      <td>0</td>\n",
              "    </tr>\n",
              "    <tr>\n",
              "      <th>4</th>\n",
              "      <td>17</td>\n",
              "      <td>1</td>\n",
              "      <td>4.5</td>\n",
              "      <td>Toy Story (1995)</td>\n",
              "      <td>16</td>\n",
              "      <td>0</td>\n",
              "    </tr>\n",
              "  </tbody>\n",
              "</table>\n",
              "</div>"
            ],
            "text/plain": [
              "   userId  movieId  rating             title  userSeq  movieSeq\n",
              "0       1        1     4.0  Toy Story (1995)        0         0\n",
              "1       5        1     4.0  Toy Story (1995)        4         0\n",
              "2       7        1     4.5  Toy Story (1995)        6         0\n",
              "3      15        1     2.5  Toy Story (1995)       14         0\n",
              "4      17        1     4.5  Toy Story (1995)       16         0"
            ]
          },
          "metadata": {
            "tags": []
          },
          "execution_count": 8
        }
      ]
    },
    {
      "cell_type": "code",
      "metadata": {
        "id": "muHawbs_vSxt",
        "colab_type": "code",
        "outputId": "a2ed45b0-462f-4c77-e291-ad1b862f6b30",
        "colab": {
          "base_uri": "https://localhost:8080/",
          "height": 52
        }
      },
      "source": [
        "train_unused, test = train_test_split(ratings, test_size=0.20, random_state=0)\n",
        "\n",
        "# All data is used for training\n",
        "train = ratings\n",
        "\n",
        "numUsers = len(train.userSeq.unique())\n",
        "numMovies = len(train.movieSeq.unique())\n",
        "print((numUsers, numMovies))\n",
        "print((len(train), len(test)))"
      ],
      "execution_count": 9,
      "outputs": [
        {
          "output_type": "stream",
          "text": [
            "(610, 9724)\n",
            "(100836, 20168)\n"
          ],
          "name": "stdout"
        }
      ]
    },
    {
      "cell_type": "code",
      "metadata": {
        "id": "qGTuoWIk4upy",
        "colab_type": "code",
        "outputId": "58835ef1-729c-4e51-f686-e7a602d9d710",
        "colab": {
          "base_uri": "https://localhost:8080/",
          "height": 693
        }
      },
      "source": [
        "numFeatures = 50\n",
        "dropout = 0.0\n",
        "\n",
        "user_input = Input(shape=(1,))\n",
        "user_emb = Embedding(numUsers, numFeatures)(user_input)\n",
        "flat_user = Flatten()(user_emb)\n",
        "user_dropout = Dropout(dropout)(flat_user)\n",
        "\n",
        "movie_input = Input(shape=(1,))\n",
        "movie_emb = Embedding(numMovies, numFeatures)(movie_input)\n",
        "flat_movie = Flatten()(movie_emb)\n",
        "movie_dropout = Dropout(dropout)(flat_movie)\n",
        "\n",
        "dotProduct = Dot(axes=1)([user_dropout, movie_dropout])\n",
        "\n",
        "user_bias = Embedding(numUsers, 1)(user_input)\n",
        "movie_bias = Embedding(numMovies, 1)(movie_input)\n",
        "sum = Add()([dotProduct, user_bias, movie_bias])\n",
        "flat_sum = Flatten()(sum)\n",
        "output = Dropout(dropout)(flat_sum)\n",
        "\n",
        "model = Model([user_input, movie_input], output)\n",
        "\n",
        "model.summary()"
      ],
      "execution_count": 10,
      "outputs": [
        {
          "output_type": "stream",
          "text": [
            "Model: \"model\"\n",
            "__________________________________________________________________________________________________\n",
            "Layer (type)                    Output Shape         Param #     Connected to                     \n",
            "==================================================================================================\n",
            "input_1 (InputLayer)            [(None, 1)]          0                                            \n",
            "__________________________________________________________________________________________________\n",
            "input_2 (InputLayer)            [(None, 1)]          0                                            \n",
            "__________________________________________________________________________________________________\n",
            "embedding (Embedding)           (None, 1, 50)        30500       input_1[0][0]                    \n",
            "__________________________________________________________________________________________________\n",
            "embedding_1 (Embedding)         (None, 1, 50)        486200      input_2[0][0]                    \n",
            "__________________________________________________________________________________________________\n",
            "flatten (Flatten)               (None, 50)           0           embedding[0][0]                  \n",
            "__________________________________________________________________________________________________\n",
            "flatten_1 (Flatten)             (None, 50)           0           embedding_1[0][0]                \n",
            "__________________________________________________________________________________________________\n",
            "dropout (Dropout)               (None, 50)           0           flatten[0][0]                    \n",
            "__________________________________________________________________________________________________\n",
            "dropout_1 (Dropout)             (None, 50)           0           flatten_1[0][0]                  \n",
            "__________________________________________________________________________________________________\n",
            "dot (Dot)                       (None, 1)            0           dropout[0][0]                    \n",
            "                                                                 dropout_1[0][0]                  \n",
            "__________________________________________________________________________________________________\n",
            "embedding_2 (Embedding)         (None, 1, 1)         610         input_1[0][0]                    \n",
            "__________________________________________________________________________________________________\n",
            "embedding_3 (Embedding)         (None, 1, 1)         9724        input_2[0][0]                    \n",
            "__________________________________________________________________________________________________\n",
            "add (Add)                       (None, 1, 1)         0           dot[0][0]                        \n",
            "                                                                 embedding_2[0][0]                \n",
            "                                                                 embedding_3[0][0]                \n",
            "__________________________________________________________________________________________________\n",
            "flatten_2 (Flatten)             (None, 1)            0           add[0][0]                        \n",
            "__________________________________________________________________________________________________\n",
            "dropout_2 (Dropout)             (None, 1)            0           flatten_2[0][0]                  \n",
            "==================================================================================================\n",
            "Total params: 527,034\n",
            "Trainable params: 527,034\n",
            "Non-trainable params: 0\n",
            "__________________________________________________________________________________________________\n"
          ],
          "name": "stdout"
        }
      ]
    },
    {
      "cell_type": "code",
      "metadata": {
        "id": "wVG9UD_A42V8",
        "colab_type": "code",
        "outputId": "f229eba1-4991-48f2-8ca3-0acb469b81e0",
        "colab": {
          "base_uri": "https://localhost:8080/",
          "height": 642
        }
      },
      "source": [
        "model.compile(loss='mean_squared_error', optimizer=Adam())\n",
        "history = model.fit([train.userSeq, train.movieSeq], train.rating,\n",
        "                    batch_size=32, epochs=10, verbose=1,\n",
        "                    validation_data=([test.userSeq, test.movieSeq], test.rating))\n",
        "\n",
        "plt.plot(history.history['loss'])\n",
        "plt.plot(history.history['val_loss'])\n",
        "plt.title('Model accuracy')\n",
        "plt.ylabel('Accuracy')\n",
        "plt.xlabel('Epoch')\n",
        "plt.legend(['Train', 'Test'], loc='upper left')\n",
        "plt.show()"
      ],
      "execution_count": 11,
      "outputs": [
        {
          "output_type": "stream",
          "text": [
            "Epoch 1/10\n",
            "3152/3152 [==============================] - 27s 8ms/step - loss: 6.2104 - val_loss: 1.4670\n",
            "Epoch 2/10\n",
            "3152/3152 [==============================] - 26s 8ms/step - loss: 1.1501 - val_loss: 0.8049\n",
            "Epoch 3/10\n",
            "3152/3152 [==============================] - 26s 8ms/step - loss: 0.8072 - val_loss: 0.6360\n",
            "Epoch 4/10\n",
            "3152/3152 [==============================] - 26s 8ms/step - loss: 0.6658 - val_loss: 0.5284\n",
            "Epoch 5/10\n",
            "3152/3152 [==============================] - 26s 8ms/step - loss: 0.5577 - val_loss: 0.4423\n",
            "Epoch 6/10\n",
            "3152/3152 [==============================] - 26s 8ms/step - loss: 0.4671 - val_loss: 0.3655\n",
            "Epoch 7/10\n",
            "3152/3152 [==============================] - 26s 8ms/step - loss: 0.3907 - val_loss: 0.3006\n",
            "Epoch 8/10\n",
            "3152/3152 [==============================] - 26s 8ms/step - loss: 0.3228 - val_loss: 0.2468\n",
            "Epoch 9/10\n",
            "3152/3152 [==============================] - 26s 8ms/step - loss: 0.2667 - val_loss: 0.2005\n",
            "Epoch 10/10\n",
            "3152/3152 [==============================] - 26s 8ms/step - loss: 0.2203 - val_loss: 0.1647\n"
          ],
          "name": "stdout"
        },
        {
          "output_type": "display_data",
          "data": {
            "image/png": "[encoded data removed]",
            "text/plain": [
              "<Figure size 432x288 with 1 Axes>"
            ]
          },
          "metadata": {
            "tags": [],
            "needs_background": "light"
          }
        }
      ]
    },
    {
      "cell_type": "code",
      "metadata": {
        "id": "jA6cU1nA4g0t",
        "colab_type": "code",
        "outputId": "fcd7b5a4-a1df-4931-ae6e-153250ac9f74",
        "colab": {
          "base_uri": "https://localhost:8080/",
          "height": 202
        }
      },
      "source": [
        "# The user for whom we want to make recommendations\n",
        "userNumber = 21\n",
        "\n",
        "uniqueMovies = ratings.drop_duplicates(subset=['movieSeq'])\n",
        "\n",
        "movie_vector = uniqueMovies.movieSeq.values\n",
        "user_vector = np.ones((len(uniqueMovies),)) * userNumber\n",
        "predictions = model.predict([user_vector, movie_vector])\n",
        "predictedDF = uniqueMovies.copy()\n",
        "predictedDF['Predictions'] = predictions\n",
        "\n",
        "predictedDF.sort_values(by='Predictions', ascending=False).head(5)"
      ],
      "execution_count": 12,
      "outputs": [
        {
          "output_type": "execute_result",
          "data": {
            "text/html": [
              "<div>\n",
              "<style scoped>\n",
              "    .dataframe tbody tr th:only-of-type {\n",
              "        vertical-align: middle;\n",
              "    }\n",
              "\n",
              "    .dataframe tbody tr th {\n",
              "        vertical-align: top;\n",
              "    }\n",
              "\n",
              "    .dataframe thead th {\n",
              "        text-align: right;\n",
              "    }\n",
              "</style>\n",
              "<table border=\"1\" class=\"dataframe\">\n",
              "  <thead>\n",
              "    <tr style=\"text-align: right;\">\n",
              "      <th></th>\n",
              "      <th>userId</th>\n",
              "      <th>movieId</th>\n",
              "      <th>rating</th>\n",
              "      <th>title</th>\n",
              "      <th>userSeq</th>\n",
              "      <th>movieSeq</th>\n",
              "      <th>Predictions</th>\n",
              "    </tr>\n",
              "  </thead>\n",
              "  <tbody>\n",
              "    <tr>\n",
              "      <th>27902</th>\n",
              "      <td>6</td>\n",
              "      <td>25</td>\n",
              "      <td>3.0</td>\n",
              "      <td>Leaving Las Vegas (1995)</td>\n",
              "      <td>5</td>\n",
              "      <td>24</td>\n",
              "      <td>4.823995</td>\n",
              "    </tr>\n",
              "    <tr>\n",
              "      <th>854</th>\n",
              "      <td>1</td>\n",
              "      <td>110</td>\n",
              "      <td>4.0</td>\n",
              "      <td>Braveheart (1995)</td>\n",
              "      <td>0</td>\n",
              "      <td>97</td>\n",
              "      <td>4.804711</td>\n",
              "    </tr>\n",
              "    <tr>\n",
              "      <th>25036</th>\n",
              "      <td>5</td>\n",
              "      <td>34</td>\n",
              "      <td>4.0</td>\n",
              "      <td>Babe (1995)</td>\n",
              "      <td>4</td>\n",
              "      <td>32</td>\n",
              "      <td>4.796081</td>\n",
              "    </tr>\n",
              "    <tr>\n",
              "      <th>48535</th>\n",
              "      <td>16</td>\n",
              "      <td>541</td>\n",
              "      <td>4.5</td>\n",
              "      <td>Blade Runner (1982)</td>\n",
              "      <td>15</td>\n",
              "      <td>474</td>\n",
              "      <td>4.794593</td>\n",
              "    </tr>\n",
              "    <tr>\n",
              "      <th>4649</th>\n",
              "      <td>1</td>\n",
              "      <td>608</td>\n",
              "      <td>5.0</td>\n",
              "      <td>Fargo (1996)</td>\n",
              "      <td>0</td>\n",
              "      <td>520</td>\n",
              "      <td>4.694968</td>\n",
              "    </tr>\n",
              "  </tbody>\n",
              "</table>\n",
              "</div>"
            ],
            "text/plain": [
              "       userId  movieId  rating  ... userSeq  movieSeq  Predictions\n",
              "27902       6       25     3.0  ...       5        24     4.823995\n",
              "854         1      110     4.0  ...       0        97     4.804711\n",
              "25036       5       34     4.0  ...       4        32     4.796081\n",
              "48535      16      541     4.5  ...      15       474     4.794593\n",
              "4649        1      608     5.0  ...       0       520     4.694968\n",
              "\n",
              "[5 rows x 7 columns]"
            ]
          },
          "metadata": {
            "tags": []
          },
          "execution_count": 12
        }
      ]
    },
    {
      "cell_type": "code",
      "metadata": {
        "id": "paC975jo6wKh",
        "colab_type": "code",
        "outputId": "1160a5a4-244e-4b92-c51f-5b2c0d53ac33",
        "colab": {
          "base_uri": "https://localhost:8080/",
          "height": 202
        }
      },
      "source": [
        "oneUser = predictedDF[predictedDF.userSeq == userNumber].copy()\n",
        "oneUser['Error'] = (oneUser.rating - oneUser.Predictions)**2\n",
        "oneUser.sort_values(by='Error', ascending=False).head(5)"
      ],
      "execution_count": 13,
      "outputs": [
        {
          "output_type": "execute_result",
          "data": {
            "text/html": [
              "<div>\n",
              "<style scoped>\n",
              "    .dataframe tbody tr th:only-of-type {\n",
              "        vertical-align: middle;\n",
              "    }\n",
              "\n",
              "    .dataframe tbody tr th {\n",
              "        vertical-align: top;\n",
              "    }\n",
              "\n",
              "    .dataframe thead th {\n",
              "        text-align: right;\n",
              "    }\n",
              "</style>\n",
              "<table border=\"1\" class=\"dataframe\">\n",
              "  <thead>\n",
              "    <tr style=\"text-align: right;\">\n",
              "      <th></th>\n",
              "      <th>userId</th>\n",
              "      <th>movieId</th>\n",
              "      <th>rating</th>\n",
              "      <th>title</th>\n",
              "      <th>userSeq</th>\n",
              "      <th>movieSeq</th>\n",
              "      <th>Predictions</th>\n",
              "      <th>Error</th>\n",
              "    </tr>\n",
              "  </thead>\n",
              "  <tbody>\n",
              "    <tr>\n",
              "      <th>69215</th>\n",
              "      <td>22</td>\n",
              "      <td>8464</td>\n",
              "      <td>0.5</td>\n",
              "      <td>Super Size Me (2004)</td>\n",
              "      <td>21</td>\n",
              "      <td>5190</td>\n",
              "      <td>1.414167</td>\n",
              "      <td>0.835701</td>\n",
              "    </tr>\n",
              "    <tr>\n",
              "      <th>69265</th>\n",
              "      <td>22</td>\n",
              "      <td>8622</td>\n",
              "      <td>0.5</td>\n",
              "      <td>Fahrenheit 9/11 (2004)</td>\n",
              "      <td>21</td>\n",
              "      <td>5245</td>\n",
              "      <td>1.328357</td>\n",
              "      <td>0.686174</td>\n",
              "    </tr>\n",
              "    <tr>\n",
              "      <th>69141</th>\n",
              "      <td>22</td>\n",
              "      <td>6711</td>\n",
              "      <td>4.0</td>\n",
              "      <td>Lost in Translation (2003)</td>\n",
              "      <td>21</td>\n",
              "      <td>4522</td>\n",
              "      <td>3.196040</td>\n",
              "      <td>0.646352</td>\n",
              "    </tr>\n",
              "    <tr>\n",
              "      <th>69684</th>\n",
              "      <td>22</td>\n",
              "      <td>56782</td>\n",
              "      <td>4.0</td>\n",
              "      <td>There Will Be Blood (2007)</td>\n",
              "      <td>21</td>\n",
              "      <td>6631</td>\n",
              "      <td>3.218738</td>\n",
              "      <td>0.610371</td>\n",
              "    </tr>\n",
              "    <tr>\n",
              "      <th>68924</th>\n",
              "      <td>22</td>\n",
              "      <td>1952</td>\n",
              "      <td>5.0</td>\n",
              "      <td>Midnight Cowboy (1969)</td>\n",
              "      <td>21</td>\n",
              "      <td>1428</td>\n",
              "      <td>4.367399</td>\n",
              "      <td>0.400184</td>\n",
              "    </tr>\n",
              "  </tbody>\n",
              "</table>\n",
              "</div>"
            ],
            "text/plain": [
              "       userId  movieId  rating  ... movieSeq  Predictions     Error\n",
              "69215      22     8464     0.5  ...     5190     1.414167  0.835701\n",
              "69265      22     8622     0.5  ...     5245     1.328357  0.686174\n",
              "69141      22     6711     4.0  ...     4522     3.196040  0.646352\n",
              "69684      22    56782     4.0  ...     6631     3.218738  0.610371\n",
              "68924      22     1952     5.0  ...     1428     4.367399  0.400184\n",
              "\n",
              "[5 rows x 8 columns]"
            ]
          },
          "metadata": {
            "tags": []
          },
          "execution_count": 13
        }
      ]
    },
    {
      "cell_type": "code",
      "metadata": {
        "id": "eUayYgORGI5X",
        "colab_type": "code",
        "outputId": "3c246d74-11ea-4beb-c232-305fff6cdfe5",
        "colab": {
          "base_uri": "https://localhost:8080/",
          "height": 415
        }
      },
      "source": [
        "ratings[ratings.movieSeq == 520].sort_values(by='rating', ascending=True)"
      ],
      "execution_count": 14,
      "outputs": [
        {
          "output_type": "execute_result",
          "data": {
            "text/html": [
              "<div>\n",
              "<style scoped>\n",
              "    .dataframe tbody tr th:only-of-type {\n",
              "        vertical-align: middle;\n",
              "    }\n",
              "\n",
              "    .dataframe tbody tr th {\n",
              "        vertical-align: top;\n",
              "    }\n",
              "\n",
              "    .dataframe thead th {\n",
              "        text-align: right;\n",
              "    }\n",
              "</style>\n",
              "<table border=\"1\" class=\"dataframe\">\n",
              "  <thead>\n",
              "    <tr style=\"text-align: right;\">\n",
              "      <th></th>\n",
              "      <th>userId</th>\n",
              "      <th>movieId</th>\n",
              "      <th>rating</th>\n",
              "      <th>title</th>\n",
              "      <th>userSeq</th>\n",
              "      <th>movieSeq</th>\n",
              "    </tr>\n",
              "  </thead>\n",
              "  <tbody>\n",
              "    <tr>\n",
              "      <th>4827</th>\n",
              "      <td>607</td>\n",
              "      <td>608</td>\n",
              "      <td>2.0</td>\n",
              "      <td>Fargo (1996)</td>\n",
              "      <td>606</td>\n",
              "      <td>520</td>\n",
              "    </tr>\n",
              "    <tr>\n",
              "      <th>4672</th>\n",
              "      <td>78</td>\n",
              "      <td>608</td>\n",
              "      <td>2.0</td>\n",
              "      <td>Fargo (1996)</td>\n",
              "      <td>77</td>\n",
              "      <td>520</td>\n",
              "    </tr>\n",
              "    <tr>\n",
              "      <th>4810</th>\n",
              "      <td>546</td>\n",
              "      <td>608</td>\n",
              "      <td>2.0</td>\n",
              "      <td>Fargo (1996)</td>\n",
              "      <td>545</td>\n",
              "      <td>520</td>\n",
              "    </tr>\n",
              "    <tr>\n",
              "      <th>4669</th>\n",
              "      <td>71</td>\n",
              "      <td>608</td>\n",
              "      <td>2.0</td>\n",
              "      <td>Fargo (1996)</td>\n",
              "      <td>70</td>\n",
              "      <td>520</td>\n",
              "    </tr>\n",
              "    <tr>\n",
              "      <th>4812</th>\n",
              "      <td>554</td>\n",
              "      <td>608</td>\n",
              "      <td>2.0</td>\n",
              "      <td>Fargo (1996)</td>\n",
              "      <td>553</td>\n",
              "      <td>520</td>\n",
              "    </tr>\n",
              "    <tr>\n",
              "      <th>...</th>\n",
              "      <td>...</td>\n",
              "      <td>...</td>\n",
              "      <td>...</td>\n",
              "      <td>...</td>\n",
              "      <td>...</td>\n",
              "      <td>...</td>\n",
              "    </tr>\n",
              "    <tr>\n",
              "      <th>4725</th>\n",
              "      <td>251</td>\n",
              "      <td>608</td>\n",
              "      <td>5.0</td>\n",
              "      <td>Fargo (1996)</td>\n",
              "      <td>250</td>\n",
              "      <td>520</td>\n",
              "    </tr>\n",
              "    <tr>\n",
              "      <th>4718</th>\n",
              "      <td>221</td>\n",
              "      <td>608</td>\n",
              "      <td>5.0</td>\n",
              "      <td>Fargo (1996)</td>\n",
              "      <td>220</td>\n",
              "      <td>520</td>\n",
              "    </tr>\n",
              "    <tr>\n",
              "      <th>4717</th>\n",
              "      <td>220</td>\n",
              "      <td>608</td>\n",
              "      <td>5.0</td>\n",
              "      <td>Fargo (1996)</td>\n",
              "      <td>219</td>\n",
              "      <td>520</td>\n",
              "    </tr>\n",
              "    <tr>\n",
              "      <th>4754</th>\n",
              "      <td>324</td>\n",
              "      <td>608</td>\n",
              "      <td>5.0</td>\n",
              "      <td>Fargo (1996)</td>\n",
              "      <td>323</td>\n",
              "      <td>520</td>\n",
              "    </tr>\n",
              "    <tr>\n",
              "      <th>4739</th>\n",
              "      <td>290</td>\n",
              "      <td>608</td>\n",
              "      <td>5.0</td>\n",
              "      <td>Fargo (1996)</td>\n",
              "      <td>289</td>\n",
              "      <td>520</td>\n",
              "    </tr>\n",
              "  </tbody>\n",
              "</table>\n",
              "<p>181 rows × 6 columns</p>\n",
              "</div>"
            ],
            "text/plain": [
              "      userId  movieId  rating         title  userSeq  movieSeq\n",
              "4827     607      608     2.0  Fargo (1996)      606       520\n",
              "4672      78      608     2.0  Fargo (1996)       77       520\n",
              "4810     546      608     2.0  Fargo (1996)      545       520\n",
              "4669      71      608     2.0  Fargo (1996)       70       520\n",
              "4812     554      608     2.0  Fargo (1996)      553       520\n",
              "...      ...      ...     ...           ...      ...       ...\n",
              "4725     251      608     5.0  Fargo (1996)      250       520\n",
              "4718     221      608     5.0  Fargo (1996)      220       520\n",
              "4717     220      608     5.0  Fargo (1996)      219       520\n",
              "4754     324      608     5.0  Fargo (1996)      323       520\n",
              "4739     290      608     5.0  Fargo (1996)      289       520\n",
              "\n",
              "[181 rows x 6 columns]"
            ]
          },
          "metadata": {
            "tags": []
          },
          "execution_count": 14
        }
      ]
    }
  ]
}