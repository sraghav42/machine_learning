{
  "nbformat": 4,
  "nbformat_minor": 0,
  "metadata": {
    "colab": {
      "name": "IrisClassification.ipynb",
      "provenance": [],
      "authorship_tag": "ABX9TyOLaM5u3n+tqK5z7Q0qig0M",
      "include_colab_link": true
    },
    "kernelspec": {
      "name": "python3",
      "display_name": "Python 3"
    }
  },
  "cells": [
    {
      "cell_type": "markdown",
      "metadata": {
        "id": "view-in-github",
        "colab_type": "text"
      },
      "source": [
        "<a href=\"https://colab.research.google.com/github/sraghav42/machine_learning/blob/master/IrisClassification.ipynb\" target=\"_parent\"><img src=\"https://colab.research.google.com/assets/colab-badge.svg\" alt=\"Open In Colab\"/></a>"
      ]
    },
    {
      "cell_type": "code",
      "metadata": {
        "id": "QksFo-FZa_Aw",
        "colab_type": "code",
        "outputId": "95a003fd-2a16-4e79-d7d1-df7cdf5a390f",
        "colab": {
          "base_uri": "https://localhost:8080/",
          "height": 52
        }
      },
      "source": [
        "vector_a=[1.,2.,3.]\n",
        "vector_b=[4.,5.,6.]\n",
        "vector_c=[]\n",
        "\n",
        "print(vector_a+vector_b)\n",
        "\n",
        "for i in range(len(vector_a)):\n",
        "  vector_c.append(vector_a[i]*vector_b[i])\n",
        "\n",
        "print(sum(vector_c))"
      ],
      "execution_count": 0,
      "outputs": [
        {
          "output_type": "stream",
          "text": [
            "[1.0, 2.0, 3.0, 4.0, 5.0, 6.0]\n",
            "32.0\n"
          ],
          "name": "stdout"
        }
      ]
    },
    {
      "cell_type": "code",
      "metadata": {
        "id": "xCAuRS4DLyAD",
        "colab_type": "code",
        "outputId": "9e1638ee-90fc-492b-b88f-cb4f32f78f9b",
        "colab": {
          "base_uri": "https://localhost:8080/",
          "height": 299
        }
      },
      "source": [
        "import matplotlib.pyplot as plt\n",
        "import math\n",
        " \n",
        "x = [0.1*i for i in range(1,64)]\n",
        "y = [0.1*i for i in range(0,-64,-1)]\n",
        "sin = [math.sin(i) for i in x]\n",
        "cos = [math.cos(i) for i in x]\n",
        "ppar = [i**2 for i in x]\n",
        "npar = [i**2 for i in y]\n",
        "ex = [math.exp(i) for i in x]\n",
        "log = [math.log(i) for i in x]\n",
        " \n",
        "#plt.plot(x, sin, label='sin(x)', color='blue', linewidth=2.5)\n",
        "#plt.plot(x, cos, label='cos(x)', color='red', linewidth=0.5)\n",
        "#plt.plot(x,ppar)\n",
        "#plt.plot(y,npar)\n",
        "#plt.plot(x,ex)\n",
        "plt.plot(x,log)\n",
        "plt.ylabel('y')\n",
        "plt.xlabel('x')\n",
        "plt.legend(loc='upper right')\n",
        "plt.show()"
      ],
      "execution_count": 0,
      "outputs": [
        {
          "output_type": "stream",
          "text": [
            "No handles with labels found to put in legend.\n"
          ],
          "name": "stderr"
        },
        {
          "output_type": "display_data",
          "data": {
            "image/png": "[encoded data removed]",
            "text/plain": [
              "<Figure size 432x288 with 1 Axes>"
            ]
          },
          "metadata": {
            "tags": [],
            "needs_background": "light"
          }
        }
      ]
    },
    {
      "cell_type": "code",
      "metadata": {
        "id": "ZOXB_yafaCRj",
        "colab_type": "code",
        "colab": {
          "base_uri": "https://localhost:8080/",
          "height": 347
        },
        "outputId": "578b296b-f2c3-44e1-94c0-c9c73f2d8679"
      },
      "source": [
        "import matplotlib.pyplot as plt\n",
        "\n",
        "def parabola(x):\n",
        "    return x**2 + x/2.0\n",
        " \n",
        "def derivative(x):\n",
        "  return 2*x + 0.5\n",
        " \n",
        "x = [i * 0.1 for i in range(-10, 11)]\n",
        "y = [parabola(xi) for xi in x]\n",
        "plt.plot(x, y)\n",
        "plt.xlabel('x')\n",
        "plt.ylabel('y')\n",
        "plt.title('Parabola')\n",
        "\n",
        "x_k = 0.0\n",
        " \n",
        "# Experiment with these two hyperparameters\n",
        "learning_rate = 0.1\n",
        "epochs = 30\n",
        " \n",
        "for i in range(epochs):\n",
        "    gradient = derivative(x_k)\n",
        "    x_k = x_k - learning_rate*gradient\n",
        " \n",
        "print('Estimated minimum %0.2f, %0.2f' % (x_k, parabola(x_k)))\n",
        "print('Derivative (gradient) %0.2f' % gradient)\n",
        " \n",
        "x = [i * 0.1 for i in range(-10, 11)]\n",
        "y = [parabola(xi) for xi in x]\n",
        "plt.plot(x, y)\n",
        "plt.xlabel('x')\n",
        "plt.ylabel('y')\n",
        "plt.plot(x_k, parabola(x_k), 'ro')\n",
        "line_x = [x_k - 0.5, x_k + 0.5]\n",
        "line_y = [gradient*(xi-x_k)+parabola(x_k) for xi in line_x]\n",
        "plt.plot(line_x, line_y)\n",
        "plt.title('Parabola')"
      ],
      "execution_count": 5,
      "outputs": [
        {
          "output_type": "stream",
          "text": [
            "Estimated minimum -0.25, -0.06\n",
            "Derivative (gradient) 0.00\n"
          ],
          "name": "stdout"
        },
        {
          "output_type": "execute_result",
          "data": {
            "text/plain": [
              "Text(0.5, 1.0, 'Parabola')"
            ]
          },
          "metadata": {
            "tags": []
          },
          "execution_count": 5
        },
        {
          "output_type": "display_data",
          "data": {
            "image/png": "[encoded data removed]",
            "text/plain": [
              "<Figure size 432x288 with 1 Axes>"
            ]
          },
          "metadata": {
            "tags": [],
            "needs_background": "light"
          }
        }
      ]
    },
    {
      "cell_type": "markdown",
      "metadata": {
        "id": "GSYxCZCwoTCJ",
        "colab_type": "text"
      },
      "source": [
        "# Training A Model"
      ]
    },
    {
      "cell_type": "markdown",
      "metadata": {
        "id": "VcCk2fNmr18n",
        "colab_type": "text"
      },
      "source": [
        "Imporing dependencies and defining sigmoid function\n",
        "\n",
        "***sklearn*** is an ML library containing multiple datasets"
      ]
    },
    {
      "cell_type": "code",
      "metadata": {
        "id": "hc58tgHCoaex",
        "colab_type": "code",
        "colab": {}
      },
      "source": [
        "import math\n",
        "import matplotlib.pyplot as plt\n",
        "from sklearn import datasets\n",
        "\n",
        "iris=datasets.load_iris()\n",
        "\n",
        "#defining the sigmoid function\n",
        "def sigmoid(z):\n",
        "  return (1/(1+(math.e**(-z))))\n",
        "\n",
        "#defining prediction function\n",
        "def predict(sample):\n",
        "  result  = 0.0\n",
        "  for i in range(len(sample)):\n",
        "    result = result + weights[i] * sample[i]\n",
        "    \n",
        "  result = result + bias\n",
        "  return (sigmoid(result))"
      ],
      "execution_count": 0,
      "outputs": []
    },
    {
      "cell_type": "markdown",
      "metadata": {
        "id": "J1OjGdsfsG-p",
        "colab_type": "text"
      },
      "source": [
        "Defining the loss function and the backpropogation algorithm for 1 epoch"
      ]
    },
    {
      "cell_type": "code",
      "metadata": {
        "id": "St0muwelsWQN",
        "colab_type": "code",
        "colab": {}
      },
      "source": [
        "#defining loss function\n",
        "def loss(y_train, y_predicted):\n",
        "  return -(y_train * math.log(y_predicted) + (1.0 - y_train) * math.log(1 - y_predicted))\n",
        "\n",
        "#backpropogation algo for 1 epoch\n",
        "num_features = iris.data.shape[1]\n",
        " \n",
        "def train_one_epoch(x_train_samples, y_train_samples):\n",
        "  cost = 0.0\n",
        "  dw = [0.0] * num_features\n",
        "  db = 0.0\n",
        " \n",
        "  global bias, weights\n",
        " \n",
        "  m = len(x_train_samples)\n",
        "  for i in range(m):\n",
        "    x_sample = x_train_samples[i]\n",
        "    y_sample = y_train_samples[i]\n",
        "    predicted = predict(x_sample)\n",
        "    cost = cost + loss(y_sample, predicted)\n",
        "    \n",
        "    # dz is the derivative of the loss function\n",
        "    dz = predicted - y_sample\n",
        "    \n",
        "    for j in range(len(weights)):\n",
        "      dw[j] = dw[j] + x_sample[j] * dz\n",
        "    db = db + dz\n",
        "  \n",
        "  cost = cost / m\n",
        "  db = db / m\n",
        "  bias = bias - learning_rate*db\n",
        "  for j in range(len(weights)):\n",
        "    dw[j] = dw[j] / m\n",
        "    weights[j] = weights[j] - learning_rate*dw[j]\n",
        "  \n",
        "  return cost"
      ],
      "execution_count": 0,
      "outputs": []
    },
    {
      "cell_type": "markdown",
      "metadata": {
        "id": "YWxtwngNst91",
        "colab_type": "text"
      },
      "source": [
        "Training the model"
      ]
    },
    {
      "cell_type": "code",
      "metadata": {
        "id": "W_rKlfq1swn1",
        "colab_type": "code",
        "colab": {
          "base_uri": "https://localhost:8080/",
          "height": 295
        },
        "outputId": "00ddcdd4-c900-43b6-c29a-25f343ddecc4"
      },
      "source": [
        "#training the model with multiple epoch's\n",
        "# Model will \"learn\" values for the weights and biases\n",
        " \n",
        "weights = [0.0] * num_features\n",
        "bias = 0.0\n",
        " \n",
        "# Choose values for learning rate and number of epochs\n",
        "# These are hyper parameter\n",
        "learning_rate = 0.2\n",
        "epochs = 1700\n",
        " \n",
        "x_train_samples = iris.data\n",
        "y_train_samples = [1 if y == 0 else 0 for y in iris.target]\n",
        " \n",
        "loss_array = []\n",
        "for epoch in range(epochs):\n",
        "  loss_value = train_one_epoch(x_train_samples, y_train_samples)\n",
        "  loss_array.append(loss_value)\n",
        " \n",
        "plt.plot(range(epochs), loss_array)\n",
        "plt.ylabel('Loss')\n",
        "plt.xlabel('Epoch')\n",
        "plt.title('Loss vs. Epoch')\n",
        "plt.show()"
      ],
      "execution_count": 15,
      "outputs": [
        {
          "output_type": "display_data",
          "data": {
            "image/png": "[encoded data removed]",
            "text/plain": [
              "<Figure size 432x288 with 1 Axes>"
            ]
          },
          "metadata": {
            "tags": [],
            "needs_background": "light"
          }
        }
      ]
    },
    {
      "cell_type": "markdown",
      "metadata": {
        "id": "DTL78M3Ls2hz",
        "colab_type": "text"
      },
      "source": [
        "Making A predcition"
      ]
    },
    {
      "cell_type": "code",
      "metadata": {
        "id": "EsaRevOos5g3",
        "colab_type": "code",
        "colab": {
          "base_uri": "https://localhost:8080/",
          "height": 297
        },
        "outputId": "fcb3db53-adb3-4970-c635-8bdbfa4a6f9e"
      },
      "source": [
        "#making preditcions\n",
        "predictions = []\n",
        " \n",
        "m = len(x_train_samples)\n",
        "correct = 0\n",
        "for i in range(m):\n",
        "  sample = x_train_samples[i]\n",
        "  value = predict(sample)\n",
        "  predictions.append(value)\n",
        "  if value >= 0.5:\n",
        "    value = 1\n",
        "  else:\n",
        "    value = 0\n",
        "  if value == y_train_samples[i]:\n",
        "    correct = correct + 1.0\n",
        " \n",
        "plt.plot(range(m), predictions, label='Predicted')\n",
        "plt.plot(range(m), y_train_samples, label='Ground truth')\n",
        "plt.ylabel('Prediction')\n",
        "plt.xlabel('Sample')\n",
        "plt.legend(loc='best')\n",
        "plt.show()\n",
        " \n",
        "print('Accuracy: %.2f %%' % (100 * correct/m))"
      ],
      "execution_count": 16,
      "outputs": [
        {
          "output_type": "display_data",
          "data": {
            "image/png": "[encoded data removed]",
            "text/plain": [
              "<Figure size 432x288 with 1 Axes>"
            ]
          },
          "metadata": {
            "tags": [],
            "needs_background": "light"
          }
        },
        {
          "output_type": "stream",
          "text": [
            "Accuracy: 100.00 %\n"
          ],
          "name": "stdout"
        }
      ]
    }
  ]
}